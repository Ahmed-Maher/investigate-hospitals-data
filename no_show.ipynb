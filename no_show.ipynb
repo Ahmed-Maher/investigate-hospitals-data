{
 "cells": [
  {
   "cell_type": "markdown",
   "id": "7d864727",
   "metadata": {},
   "source": [
    "# Project: Investigate a Dataset (No Show Appointments Dataset)\n",
    "\n",
    "## Table of Contents\n",
    "<ul>\n",
    "<li><a href=\"#intro\">Introduction</a></li>\n",
    "<li><a href=\"#wrangling\">Data Wrangling</a></li>\n",
    "<li><a href=\"#eda\">Exploratory Data Analysis</a></li>\n",
    "<li><a href=\"#conclusions\">Conclusions</a></li>\n",
    "</ul>"
   ]
  },
  {
   "cell_type": "markdown",
   "id": "b77b70cd",
   "metadata": {},
   "source": [
    "<a id='intro'></a>\n",
    "## Introduction"
   ]
  },
  {
   "cell_type": "markdown",
   "id": "1f33eff1",
   "metadata": {},
   "source": [
    "### This dataset collects information from 100k medical appointments in Brazil and is focused on the question of whether or not patients show up for their appointment. A number of characteristics about the patient are included in each row.\n",
    "\n",
    ">‘ScheduledDay’ tells us on what day the patient set up their appointment.\n",
    ">\n",
    "> ‘Neighborhood’ indicates the location of the hospital.\n",
    ">\n",
    "> ‘Scholarship’ indicates whether or not the patient is enrolled in Brasilian welfare program Bolsa Família.\n",
    "\n",
    "### I'm going to prepare and clean the data then i'm going to figure out which variable affect the probability of showing up. So we can get higher showing up rate."
   ]
  },
  {
   "cell_type": "markdown",
   "id": "9afdd28a",
   "metadata": {},
   "source": [
    "## Ask\n",
    "### What factors are important for us to know in order to predict if a patient will show up for their scheduled appointment?\n",
    "> Does gender makes difference?\n",
    ">\n",
    "> Does naiborhood makes difference?\n",
    ">\n",
    "> Does age makes difference?\n",
    ">\n",
    "> Does getting sms makes difference?\n",
    ">\n",
    "> Does being a handicap makes difference?\n",
    ">\n",
    "> Does haveing scholarship makes difference?\n",
    ">\n",
    "> Does haveing hipertension makes difference?\n",
    ">\n",
    "> Does haveing diabetes makes difference?\n",
    ">\n",
    "> Does haveing alcoholism makes difference?\n",
    ">\n",
    "> Does having hipertension and diabetes at the same time makes difference?"
   ]
  },
  {
   "cell_type": "markdown",
   "id": "f1f82660",
   "metadata": {},
   "source": [
    "<a id='wrangling'></a>\n",
    "## Data Wrangling\n",
    "\n",
    "\n",
    "### Prepare"
   ]
  },
  {
   "cell_type": "code",
   "execution_count": 1,
   "id": "9dc30787",
   "metadata": {},
   "outputs": [],
   "source": [
    "### Importing needed modules\n",
    "import numpy as np\n",
    "import pandas as pd\n",
    "import matplotlib.pyplot as plt\n",
    "%matplotlib inline"
   ]
  },
  {
   "cell_type": "code",
   "execution_count": 2,
   "id": "d62c5f5c",
   "metadata": {},
   "outputs": [],
   "source": [
    "# reading the dataframe\n",
    "df = pd.read_csv('no_show_appointments.csv')"
   ]
  },
  {
   "cell_type": "markdown",
   "id": "ae60ba3a",
   "metadata": {},
   "source": [
    "Checking the data for cleanliness"
   ]
  },
  {
   "cell_type": "code",
   "execution_count": 3,
   "id": "38e384fa",
   "metadata": {},
   "outputs": [
    {
     "data": {
      "text/plain": [
       "(110527, 14)"
      ]
     },
     "execution_count": 3,
     "metadata": {},
     "output_type": "execute_result"
    }
   ],
   "source": [
    "df.shape"
   ]
  },
  {
   "cell_type": "code",
   "execution_count": 4,
   "id": "94a64eb9",
   "metadata": {},
   "outputs": [
    {
     "data": {
      "text/plain": [
       "False"
      ]
     },
     "execution_count": 4,
     "metadata": {},
     "output_type": "execute_result"
    }
   ],
   "source": [
    "# checking for duplicates\n",
    "df.duplicated().any()"
   ]
  },
  {
   "cell_type": "code",
   "execution_count": 5,
   "id": "2972e93a",
   "metadata": {},
   "outputs": [
    {
     "data": {
      "text/plain": [
       "PatientId         False\n",
       "AppointmentID     False\n",
       "Gender            False\n",
       "ScheduledDay      False\n",
       "AppointmentDay    False\n",
       "Age               False\n",
       "Neighbourhood     False\n",
       "Scholarship       False\n",
       "Hipertension      False\n",
       "Diabetes          False\n",
       "Alcoholism        False\n",
       "Handcap           False\n",
       "SMS_received      False\n",
       "No-show           False\n",
       "dtype: bool"
      ]
     },
     "execution_count": 5,
     "metadata": {},
     "output_type": "execute_result"
    }
   ],
   "source": [
    "# checking for null values\n",
    "df.isnull().any()"
   ]
  },
  {
   "cell_type": "code",
   "execution_count": 6,
   "id": "535eb32d",
   "metadata": {},
   "outputs": [
    {
     "data": {
      "text/plain": [
       "PatientId         float64\n",
       "AppointmentID       int64\n",
       "Gender             object\n",
       "ScheduledDay       object\n",
       "AppointmentDay     object\n",
       "Age                 int64\n",
       "Neighbourhood      object\n",
       "Scholarship         int64\n",
       "Hipertension        int64\n",
       "Diabetes            int64\n",
       "Alcoholism          int64\n",
       "Handcap             int64\n",
       "SMS_received        int64\n",
       "No-show            object\n",
       "dtype: object"
      ]
     },
     "execution_count": 6,
     "metadata": {},
     "output_type": "execute_result"
    }
   ],
   "source": [
    "# checking the data type of each column\n",
    "df.dtypes"
   ]
  },
  {
   "cell_type": "code",
   "execution_count": 7,
   "id": "15f079c8",
   "metadata": {},
   "outputs": [
    {
     "data": {
      "text/html": [
       "<div>\n",
       "<style scoped>\n",
       "    .dataframe tbody tr th:only-of-type {\n",
       "        vertical-align: middle;\n",
       "    }\n",
       "\n",
       "    .dataframe tbody tr th {\n",
       "        vertical-align: top;\n",
       "    }\n",
       "\n",
       "    .dataframe thead th {\n",
       "        text-align: right;\n",
       "    }\n",
       "</style>\n",
       "<table border=\"1\" class=\"dataframe\">\n",
       "  <thead>\n",
       "    <tr style=\"text-align: right;\">\n",
       "      <th></th>\n",
       "      <th>PatientId</th>\n",
       "      <th>AppointmentID</th>\n",
       "      <th>Gender</th>\n",
       "      <th>ScheduledDay</th>\n",
       "      <th>AppointmentDay</th>\n",
       "      <th>Age</th>\n",
       "      <th>Neighbourhood</th>\n",
       "      <th>Scholarship</th>\n",
       "      <th>Hipertension</th>\n",
       "      <th>Diabetes</th>\n",
       "      <th>Alcoholism</th>\n",
       "      <th>Handcap</th>\n",
       "      <th>SMS_received</th>\n",
       "      <th>No-show</th>\n",
       "    </tr>\n",
       "  </thead>\n",
       "  <tbody>\n",
       "    <tr>\n",
       "      <th>0</th>\n",
       "      <td>2.987250e+13</td>\n",
       "      <td>5642903</td>\n",
       "      <td>F</td>\n",
       "      <td>2016-04-29T18:38:08Z</td>\n",
       "      <td>2016-04-29T00:00:00Z</td>\n",
       "      <td>62</td>\n",
       "      <td>JARDIM DA PENHA</td>\n",
       "      <td>0</td>\n",
       "      <td>1</td>\n",
       "      <td>0</td>\n",
       "      <td>0</td>\n",
       "      <td>0</td>\n",
       "      <td>0</td>\n",
       "      <td>No</td>\n",
       "    </tr>\n",
       "    <tr>\n",
       "      <th>1</th>\n",
       "      <td>5.589978e+14</td>\n",
       "      <td>5642503</td>\n",
       "      <td>M</td>\n",
       "      <td>2016-04-29T16:08:27Z</td>\n",
       "      <td>2016-04-29T00:00:00Z</td>\n",
       "      <td>56</td>\n",
       "      <td>JARDIM DA PENHA</td>\n",
       "      <td>0</td>\n",
       "      <td>0</td>\n",
       "      <td>0</td>\n",
       "      <td>0</td>\n",
       "      <td>0</td>\n",
       "      <td>0</td>\n",
       "      <td>No</td>\n",
       "    </tr>\n",
       "    <tr>\n",
       "      <th>2</th>\n",
       "      <td>4.262962e+12</td>\n",
       "      <td>5642549</td>\n",
       "      <td>F</td>\n",
       "      <td>2016-04-29T16:19:04Z</td>\n",
       "      <td>2016-04-29T00:00:00Z</td>\n",
       "      <td>62</td>\n",
       "      <td>MATA DA PRAIA</td>\n",
       "      <td>0</td>\n",
       "      <td>0</td>\n",
       "      <td>0</td>\n",
       "      <td>0</td>\n",
       "      <td>0</td>\n",
       "      <td>0</td>\n",
       "      <td>No</td>\n",
       "    </tr>\n",
       "    <tr>\n",
       "      <th>3</th>\n",
       "      <td>8.679512e+11</td>\n",
       "      <td>5642828</td>\n",
       "      <td>F</td>\n",
       "      <td>2016-04-29T17:29:31Z</td>\n",
       "      <td>2016-04-29T00:00:00Z</td>\n",
       "      <td>8</td>\n",
       "      <td>PONTAL DE CAMBURI</td>\n",
       "      <td>0</td>\n",
       "      <td>0</td>\n",
       "      <td>0</td>\n",
       "      <td>0</td>\n",
       "      <td>0</td>\n",
       "      <td>0</td>\n",
       "      <td>No</td>\n",
       "    </tr>\n",
       "    <tr>\n",
       "      <th>4</th>\n",
       "      <td>8.841186e+12</td>\n",
       "      <td>5642494</td>\n",
       "      <td>F</td>\n",
       "      <td>2016-04-29T16:07:23Z</td>\n",
       "      <td>2016-04-29T00:00:00Z</td>\n",
       "      <td>56</td>\n",
       "      <td>JARDIM DA PENHA</td>\n",
       "      <td>0</td>\n",
       "      <td>1</td>\n",
       "      <td>1</td>\n",
       "      <td>0</td>\n",
       "      <td>0</td>\n",
       "      <td>0</td>\n",
       "      <td>No</td>\n",
       "    </tr>\n",
       "  </tbody>\n",
       "</table>\n",
       "</div>"
      ],
      "text/plain": [
       "      PatientId  AppointmentID Gender          ScheduledDay  \\\n",
       "0  2.987250e+13        5642903      F  2016-04-29T18:38:08Z   \n",
       "1  5.589978e+14        5642503      M  2016-04-29T16:08:27Z   \n",
       "2  4.262962e+12        5642549      F  2016-04-29T16:19:04Z   \n",
       "3  8.679512e+11        5642828      F  2016-04-29T17:29:31Z   \n",
       "4  8.841186e+12        5642494      F  2016-04-29T16:07:23Z   \n",
       "\n",
       "         AppointmentDay  Age      Neighbourhood  Scholarship  Hipertension  \\\n",
       "0  2016-04-29T00:00:00Z   62    JARDIM DA PENHA            0             1   \n",
       "1  2016-04-29T00:00:00Z   56    JARDIM DA PENHA            0             0   \n",
       "2  2016-04-29T00:00:00Z   62      MATA DA PRAIA            0             0   \n",
       "3  2016-04-29T00:00:00Z    8  PONTAL DE CAMBURI            0             0   \n",
       "4  2016-04-29T00:00:00Z   56    JARDIM DA PENHA            0             1   \n",
       "\n",
       "   Diabetes  Alcoholism  Handcap  SMS_received No-show  \n",
       "0         0           0        0             0      No  \n",
       "1         0           0        0             0      No  \n",
       "2         0           0        0             0      No  \n",
       "3         0           0        0             0      No  \n",
       "4         1           0        0             0      No  "
      ]
     },
     "execution_count": 7,
     "metadata": {},
     "output_type": "execute_result"
    }
   ],
   "source": [
    "df.head()"
   ]
  },
  {
   "cell_type": "code",
   "execution_count": 8,
   "id": "44495baa",
   "metadata": {},
   "outputs": [
    {
     "data": {
      "text/plain": [
       "62299"
      ]
     },
     "execution_count": 8,
     "metadata": {},
     "output_type": "execute_result"
    }
   ],
   "source": [
    "# checking if the patients had more than one appointment\n",
    "len(df['PatientId'].unique())"
   ]
  },
  {
   "cell_type": "code",
   "execution_count": 9,
   "id": "fee50d2c",
   "metadata": {},
   "outputs": [
    {
     "data": {
      "text/plain": [
       "array(['F', 'M'], dtype=object)"
      ]
     },
     "execution_count": 9,
     "metadata": {},
     "output_type": "execute_result"
    }
   ],
   "source": [
    "# checking if there is any misspellings or typo in some columns\n",
    "df['Gender'].unique()"
   ]
  },
  {
   "cell_type": "code",
   "execution_count": 11,
   "id": "c7f3409d",
   "metadata": {},
   "outputs": [
    {
     "data": {
      "image/png": "[encoded data removed]",
      "text/plain": [
       "<Figure size 432x288 with 1 Axes>"
      ]
     },
     "metadata": {
      "needs_background": "light"
     },
     "output_type": "display_data"
    }
   ],
   "source": [
    "# checking if there is any outliers in age\n",
    "plt.boxplot(df.Age)\n",
    "plt.show()"
   ]
  },
  {
   "cell_type": "code",
   "execution_count": 12,
   "id": "6de614ac",
   "metadata": {
    "scrolled": true
   },
   "outputs": [
    {
     "data": {
      "text/plain": [
       "array([ -1,   0,   1,   2,   3,   4,   5,   6,   7,   8,   9,  10,  11,\n",
       "        12,  13,  14,  15,  16,  17,  18,  19,  20,  21,  22,  23,  24,\n",
       "        25,  26,  27,  28,  29,  30,  31,  32,  33,  34,  35,  36,  37,\n",
       "        38,  39,  40,  41,  42,  43,  44,  45,  46,  47,  48,  49,  50,\n",
       "        51,  52,  53,  54,  55,  56,  57,  58,  59,  60,  61,  62,  63,\n",
       "        64,  65,  66,  67,  68,  69,  70,  71,  72,  73,  74,  75,  76,\n",
       "        77,  78,  79,  80,  81,  82,  83,  84,  85,  86,  87,  88,  89,\n",
       "        90,  91,  92,  93,  94,  95,  96,  97,  98,  99, 100, 102, 115],\n",
       "      dtype=int64)"
      ]
     },
     "execution_count": 12,
     "metadata": {},
     "output_type": "execute_result"
    }
   ],
   "source": [
    "np.sort(df['Age'].unique())"
   ]
  },
  {
   "cell_type": "code",
   "execution_count": 13,
   "id": "51255e35",
   "metadata": {},
   "outputs": [
    {
     "data": {
      "text/html": [
       "<div>\n",
       "<style scoped>\n",
       "    .dataframe tbody tr th:only-of-type {\n",
       "        vertical-align: middle;\n",
       "    }\n",
       "\n",
       "    .dataframe tbody tr th {\n",
       "        vertical-align: top;\n",
       "    }\n",
       "\n",
       "    .dataframe thead th {\n",
       "        text-align: right;\n",
       "    }\n",
       "</style>\n",
       "<table border=\"1\" class=\"dataframe\">\n",
       "  <thead>\n",
       "    <tr style=\"text-align: right;\">\n",
       "      <th></th>\n",
       "      <th>PatientId</th>\n",
       "      <th>AppointmentID</th>\n",
       "      <th>Gender</th>\n",
       "      <th>ScheduledDay</th>\n",
       "      <th>AppointmentDay</th>\n",
       "      <th>Age</th>\n",
       "      <th>Neighbourhood</th>\n",
       "      <th>Scholarship</th>\n",
       "      <th>Hipertension</th>\n",
       "      <th>Diabetes</th>\n",
       "      <th>Alcoholism</th>\n",
       "      <th>Handcap</th>\n",
       "      <th>SMS_received</th>\n",
       "      <th>No-show</th>\n",
       "    </tr>\n",
       "  </thead>\n",
       "  <tbody>\n",
       "    <tr>\n",
       "      <th>99832</th>\n",
       "      <td>4.659432e+14</td>\n",
       "      <td>5775010</td>\n",
       "      <td>F</td>\n",
       "      <td>2016-06-06T08:58:13Z</td>\n",
       "      <td>2016-06-06T00:00:00Z</td>\n",
       "      <td>-1</td>\n",
       "      <td>ROMÃO</td>\n",
       "      <td>0</td>\n",
       "      <td>0</td>\n",
       "      <td>0</td>\n",
       "      <td>0</td>\n",
       "      <td>0</td>\n",
       "      <td>0</td>\n",
       "      <td>No</td>\n",
       "    </tr>\n",
       "  </tbody>\n",
       "</table>\n",
       "</div>"
      ],
      "text/plain": [
       "          PatientId  AppointmentID Gender          ScheduledDay  \\\n",
       "99832  4.659432e+14        5775010      F  2016-06-06T08:58:13Z   \n",
       "\n",
       "             AppointmentDay  Age Neighbourhood  Scholarship  Hipertension  \\\n",
       "99832  2016-06-06T00:00:00Z   -1         ROMÃO            0             0   \n",
       "\n",
       "       Diabetes  Alcoholism  Handcap  SMS_received No-show  \n",
       "99832         0           0        0             0      No  "
      ]
     },
     "execution_count": 13,
     "metadata": {},
     "output_type": "execute_result"
    }
   ],
   "source": [
    "df[df['Age'] == -1]\n",
    "# looks like there is one row with -1 as age so I'll drop it"
   ]
  },
  {
   "cell_type": "code",
   "execution_count": 14,
   "id": "de675619",
   "metadata": {},
   "outputs": [
    {
     "data": {
      "text/plain": [
       "array([0, 1], dtype=int64)"
      ]
     },
     "execution_count": 14,
     "metadata": {},
     "output_type": "execute_result"
    }
   ],
   "source": [
    "df['Scholarship'].unique()"
   ]
  },
  {
   "cell_type": "code",
   "execution_count": 15,
   "id": "2b6303cf",
   "metadata": {},
   "outputs": [
    {
     "data": {
      "text/plain": [
       "array([1, 0], dtype=int64)"
      ]
     },
     "execution_count": 15,
     "metadata": {},
     "output_type": "execute_result"
    }
   ],
   "source": [
    "df['Hipertension'].unique()"
   ]
  },
  {
   "cell_type": "code",
   "execution_count": 16,
   "id": "248b252c",
   "metadata": {},
   "outputs": [
    {
     "data": {
      "text/plain": [
       "array([0, 1], dtype=int64)"
      ]
     },
     "execution_count": 16,
     "metadata": {},
     "output_type": "execute_result"
    }
   ],
   "source": [
    "df['Diabetes'].unique()"
   ]
  },
  {
   "cell_type": "code",
   "execution_count": 17,
   "id": "333b33e7",
   "metadata": {},
   "outputs": [
    {
     "data": {
      "text/plain": [
       "array([0, 1], dtype=int64)"
      ]
     },
     "execution_count": 17,
     "metadata": {},
     "output_type": "execute_result"
    }
   ],
   "source": [
    "df['Alcoholism'].unique()"
   ]
  },
  {
   "cell_type": "code",
   "execution_count": 18,
   "id": "e1f27899",
   "metadata": {},
   "outputs": [
    {
     "data": {
      "text/plain": [
       "array([0, 1, 2, 3, 4], dtype=int64)"
      ]
     },
     "execution_count": 18,
     "metadata": {},
     "output_type": "execute_result"
    }
   ],
   "source": [
    "df['Handcap'].unique()\n",
    "# (0) means not handicap and the other numbers indcates the development of illness\n",
    "# according to \"https://apps.who.int/iris/bitstream/handle/10665/41003/9241541261_eng.pdf;jsessionid\"\n",
    "# in page 25"
   ]
  },
  {
   "cell_type": "code",
   "execution_count": 19,
   "id": "6995d3b5",
   "metadata": {},
   "outputs": [
    {
     "data": {
      "text/plain": [
       "array([0, 1], dtype=int64)"
      ]
     },
     "execution_count": 19,
     "metadata": {},
     "output_type": "execute_result"
    }
   ],
   "source": [
    "df['SMS_received'].unique()"
   ]
  },
  {
   "cell_type": "code",
   "execution_count": 20,
   "id": "871a1b51",
   "metadata": {},
   "outputs": [
    {
     "data": {
      "text/plain": [
       "array(['No', 'Yes'], dtype=object)"
      ]
     },
     "execution_count": 20,
     "metadata": {},
     "output_type": "execute_result"
    }
   ],
   "source": [
    "df['No-show'].unique()"
   ]
  },
  {
   "cell_type": "markdown",
   "id": "e04a7f37",
   "metadata": {},
   "source": [
    "### Process Data from Dirty to Clean"
   ]
  },
  {
   "cell_type": "markdown",
   "id": "0b384c14",
   "metadata": {},
   "source": [
    "#### The data is almost clean but I need to change some data types and drop the '-1' age row and make a small modification on the columns names"
   ]
  },
  {
   "cell_type": "code",
   "execution_count": 21,
   "id": "2cab2c9a",
   "metadata": {},
   "outputs": [],
   "source": [
    "# drop the '-1' age row\n",
    "df.drop(index=99832, axis=0, inplace=True)"
   ]
  },
  {
   "cell_type": "code",
   "execution_count": 22,
   "id": "b9ac7a24",
   "metadata": {},
   "outputs": [
    {
     "data": {
      "text/html": [
       "<div>\n",
       "<style scoped>\n",
       "    .dataframe tbody tr th:only-of-type {\n",
       "        vertical-align: middle;\n",
       "    }\n",
       "\n",
       "    .dataframe tbody tr th {\n",
       "        vertical-align: top;\n",
       "    }\n",
       "\n",
       "    .dataframe thead th {\n",
       "        text-align: right;\n",
       "    }\n",
       "</style>\n",
       "<table border=\"1\" class=\"dataframe\">\n",
       "  <thead>\n",
       "    <tr style=\"text-align: right;\">\n",
       "      <th></th>\n",
       "      <th>PatientId</th>\n",
       "      <th>AppointmentID</th>\n",
       "      <th>Gender</th>\n",
       "      <th>ScheduledDay</th>\n",
       "      <th>AppointmentDay</th>\n",
       "      <th>Age</th>\n",
       "      <th>Neighbourhood</th>\n",
       "      <th>Scholarship</th>\n",
       "      <th>Hipertension</th>\n",
       "      <th>Diabetes</th>\n",
       "      <th>Alcoholism</th>\n",
       "      <th>Handcap</th>\n",
       "      <th>SMS_received</th>\n",
       "      <th>No-show</th>\n",
       "    </tr>\n",
       "  </thead>\n",
       "  <tbody>\n",
       "  </tbody>\n",
       "</table>\n",
       "</div>"
      ],
      "text/plain": [
       "Empty DataFrame\n",
       "Columns: [PatientId, AppointmentID, Gender, ScheduledDay, AppointmentDay, Age, Neighbourhood, Scholarship, Hipertension, Diabetes, Alcoholism, Handcap, SMS_received, No-show]\n",
       "Index: []"
      ]
     },
     "execution_count": 22,
     "metadata": {},
     "output_type": "execute_result"
    }
   ],
   "source": [
    "# make sure that the row has been dropped\n",
    "df[df['Age'] == -1]"
   ]
  },
  {
   "cell_type": "code",
   "execution_count": 23,
   "id": "b2d232df",
   "metadata": {},
   "outputs": [],
   "source": [
    "# change the data type for some coloumns to str because categorical data\n",
    "cols = ['PatientId','AppointmentID','Scholarship','Hipertension','Diabetes','Alcoholism','Handcap','SMS_received']\n",
    "for col in cols:\n",
    "    df[col] = df[col].astype('str')"
   ]
  },
  {
   "cell_type": "code",
   "execution_count": 24,
   "id": "24d74478",
   "metadata": {},
   "outputs": [],
   "source": [
    "# I don't need the dates columns so I'll drop them\n",
    "df.drop('ScheduledDay',axis=1,inplace=True)\n",
    "df.drop('AppointmentDay',axis=1,inplace=True)"
   ]
  },
  {
   "cell_type": "code",
   "execution_count": 25,
   "id": "f4f2a35c",
   "metadata": {
    "scrolled": true
   },
   "outputs": [
    {
     "data": {
      "text/plain": [
       "PatientId        object\n",
       "AppointmentID    object\n",
       "Gender           object\n",
       "Age               int64\n",
       "Neighbourhood    object\n",
       "Scholarship      object\n",
       "Hipertension     object\n",
       "Diabetes         object\n",
       "Alcoholism       object\n",
       "Handcap          object\n",
       "SMS_received     object\n",
       "No-show          object\n",
       "dtype: object"
      ]
     },
     "execution_count": 25,
     "metadata": {},
     "output_type": "execute_result"
    }
   ],
   "source": [
    "df.dtypes"
   ]
  },
  {
   "cell_type": "code",
   "execution_count": 26,
   "id": "7c89c9ec",
   "metadata": {},
   "outputs": [],
   "source": [
    "# change the 'No-show' col to 'No_show'\n",
    "df.rename(columns={'No-show':'No_show'}, inplace=True)"
   ]
  },
  {
   "cell_type": "code",
   "execution_count": 27,
   "id": "6b681195",
   "metadata": {},
   "outputs": [],
   "source": [
    "# make columns names all lowercase to make typing easier\n",
    "df.columns = df.columns.str.lower()"
   ]
  },
  {
   "cell_type": "code",
   "execution_count": 28,
   "id": "6e753fb4",
   "metadata": {},
   "outputs": [
    {
     "data": {
      "text/html": [
       "<div>\n",
       "<style scoped>\n",
       "    .dataframe tbody tr th:only-of-type {\n",
       "        vertical-align: middle;\n",
       "    }\n",
       "\n",
       "    .dataframe tbody tr th {\n",
       "        vertical-align: top;\n",
       "    }\n",
       "\n",
       "    .dataframe thead th {\n",
       "        text-align: right;\n",
       "    }\n",
       "</style>\n",
       "<table border=\"1\" class=\"dataframe\">\n",
       "  <thead>\n",
       "    <tr style=\"text-align: right;\">\n",
       "      <th></th>\n",
       "      <th>patientid</th>\n",
       "      <th>appointmentid</th>\n",
       "      <th>gender</th>\n",
       "      <th>age</th>\n",
       "      <th>neighbourhood</th>\n",
       "      <th>scholarship</th>\n",
       "      <th>hipertension</th>\n",
       "      <th>diabetes</th>\n",
       "      <th>alcoholism</th>\n",
       "      <th>handcap</th>\n",
       "      <th>sms_received</th>\n",
       "      <th>no_show</th>\n",
       "    </tr>\n",
       "  </thead>\n",
       "  <tbody>\n",
       "    <tr>\n",
       "      <th>0</th>\n",
       "      <td>29872499824296.0</td>\n",
       "      <td>5642903</td>\n",
       "      <td>F</td>\n",
       "      <td>62</td>\n",
       "      <td>JARDIM DA PENHA</td>\n",
       "      <td>0</td>\n",
       "      <td>1</td>\n",
       "      <td>0</td>\n",
       "      <td>0</td>\n",
       "      <td>0</td>\n",
       "      <td>0</td>\n",
       "      <td>No</td>\n",
       "    </tr>\n",
       "    <tr>\n",
       "      <th>1</th>\n",
       "      <td>558997776694438.0</td>\n",
       "      <td>5642503</td>\n",
       "      <td>M</td>\n",
       "      <td>56</td>\n",
       "      <td>JARDIM DA PENHA</td>\n",
       "      <td>0</td>\n",
       "      <td>0</td>\n",
       "      <td>0</td>\n",
       "      <td>0</td>\n",
       "      <td>0</td>\n",
       "      <td>0</td>\n",
       "      <td>No</td>\n",
       "    </tr>\n",
       "    <tr>\n",
       "      <th>2</th>\n",
       "      <td>4262962299951.0</td>\n",
       "      <td>5642549</td>\n",
       "      <td>F</td>\n",
       "      <td>62</td>\n",
       "      <td>MATA DA PRAIA</td>\n",
       "      <td>0</td>\n",
       "      <td>0</td>\n",
       "      <td>0</td>\n",
       "      <td>0</td>\n",
       "      <td>0</td>\n",
       "      <td>0</td>\n",
       "      <td>No</td>\n",
       "    </tr>\n",
       "    <tr>\n",
       "      <th>3</th>\n",
       "      <td>867951213174.0</td>\n",
       "      <td>5642828</td>\n",
       "      <td>F</td>\n",
       "      <td>8</td>\n",
       "      <td>PONTAL DE CAMBURI</td>\n",
       "      <td>0</td>\n",
       "      <td>0</td>\n",
       "      <td>0</td>\n",
       "      <td>0</td>\n",
       "      <td>0</td>\n",
       "      <td>0</td>\n",
       "      <td>No</td>\n",
       "    </tr>\n",
       "    <tr>\n",
       "      <th>4</th>\n",
       "      <td>8841186448183.0</td>\n",
       "      <td>5642494</td>\n",
       "      <td>F</td>\n",
       "      <td>56</td>\n",
       "      <td>JARDIM DA PENHA</td>\n",
       "      <td>0</td>\n",
       "      <td>1</td>\n",
       "      <td>1</td>\n",
       "      <td>0</td>\n",
       "      <td>0</td>\n",
       "      <td>0</td>\n",
       "      <td>No</td>\n",
       "    </tr>\n",
       "  </tbody>\n",
       "</table>\n",
       "</div>"
      ],
      "text/plain": [
       "           patientid appointmentid gender  age      neighbourhood scholarship  \\\n",
       "0   29872499824296.0       5642903      F   62    JARDIM DA PENHA           0   \n",
       "1  558997776694438.0       5642503      M   56    JARDIM DA PENHA           0   \n",
       "2    4262962299951.0       5642549      F   62      MATA DA PRAIA           0   \n",
       "3     867951213174.0       5642828      F    8  PONTAL DE CAMBURI           0   \n",
       "4    8841186448183.0       5642494      F   56    JARDIM DA PENHA           0   \n",
       "\n",
       "  hipertension diabetes alcoholism handcap sms_received no_show  \n",
       "0            1        0          0       0            0      No  \n",
       "1            0        0          0       0            0      No  \n",
       "2            0        0          0       0            0      No  \n",
       "3            0        0          0       0            0      No  \n",
       "4            1        1          0       0            0      No  "
      ]
     },
     "execution_count": 28,
     "metadata": {},
     "output_type": "execute_result"
    }
   ],
   "source": [
    "df.head()"
   ]
  },
  {
   "cell_type": "markdown",
   "id": "9578bd53",
   "metadata": {},
   "source": [
    "<a id='eda'></a>\n",
    "## Exploratory Data Analysis\n",
    "\n"
   ]
  },
  {
   "cell_type": "code",
   "execution_count": 29,
   "id": "b7267d62",
   "metadata": {
    "scrolled": true
   },
   "outputs": [
    {
     "data": {
      "text/html": [
       "<div>\n",
       "<style scoped>\n",
       "    .dataframe tbody tr th:only-of-type {\n",
       "        vertical-align: middle;\n",
       "    }\n",
       "\n",
       "    .dataframe tbody tr th {\n",
       "        vertical-align: top;\n",
       "    }\n",
       "\n",
       "    .dataframe thead th {\n",
       "        text-align: right;\n",
       "    }\n",
       "</style>\n",
       "<table border=\"1\" class=\"dataframe\">\n",
       "  <thead>\n",
       "    <tr style=\"text-align: right;\">\n",
       "      <th></th>\n",
       "      <th>patientid</th>\n",
       "      <th>appointmentid</th>\n",
       "      <th>gender</th>\n",
       "      <th>age</th>\n",
       "      <th>neighbourhood</th>\n",
       "      <th>scholarship</th>\n",
       "      <th>hipertension</th>\n",
       "      <th>diabetes</th>\n",
       "      <th>alcoholism</th>\n",
       "      <th>handcap</th>\n",
       "      <th>sms_received</th>\n",
       "      <th>no_show</th>\n",
       "    </tr>\n",
       "  </thead>\n",
       "  <tbody>\n",
       "    <tr>\n",
       "      <th>0</th>\n",
       "      <td>29872499824296.0</td>\n",
       "      <td>5642903</td>\n",
       "      <td>F</td>\n",
       "      <td>62</td>\n",
       "      <td>JARDIM DA PENHA</td>\n",
       "      <td>0</td>\n",
       "      <td>1</td>\n",
       "      <td>0</td>\n",
       "      <td>0</td>\n",
       "      <td>0</td>\n",
       "      <td>0</td>\n",
       "      <td>No</td>\n",
       "    </tr>\n",
       "    <tr>\n",
       "      <th>1</th>\n",
       "      <td>558997776694438.0</td>\n",
       "      <td>5642503</td>\n",
       "      <td>M</td>\n",
       "      <td>56</td>\n",
       "      <td>JARDIM DA PENHA</td>\n",
       "      <td>0</td>\n",
       "      <td>0</td>\n",
       "      <td>0</td>\n",
       "      <td>0</td>\n",
       "      <td>0</td>\n",
       "      <td>0</td>\n",
       "      <td>No</td>\n",
       "    </tr>\n",
       "    <tr>\n",
       "      <th>2</th>\n",
       "      <td>4262962299951.0</td>\n",
       "      <td>5642549</td>\n",
       "      <td>F</td>\n",
       "      <td>62</td>\n",
       "      <td>MATA DA PRAIA</td>\n",
       "      <td>0</td>\n",
       "      <td>0</td>\n",
       "      <td>0</td>\n",
       "      <td>0</td>\n",
       "      <td>0</td>\n",
       "      <td>0</td>\n",
       "      <td>No</td>\n",
       "    </tr>\n",
       "    <tr>\n",
       "      <th>3</th>\n",
       "      <td>867951213174.0</td>\n",
       "      <td>5642828</td>\n",
       "      <td>F</td>\n",
       "      <td>8</td>\n",
       "      <td>PONTAL DE CAMBURI</td>\n",
       "      <td>0</td>\n",
       "      <td>0</td>\n",
       "      <td>0</td>\n",
       "      <td>0</td>\n",
       "      <td>0</td>\n",
       "      <td>0</td>\n",
       "      <td>No</td>\n",
       "    </tr>\n",
       "    <tr>\n",
       "      <th>4</th>\n",
       "      <td>8841186448183.0</td>\n",
       "      <td>5642494</td>\n",
       "      <td>F</td>\n",
       "      <td>56</td>\n",
       "      <td>JARDIM DA PENHA</td>\n",
       "      <td>0</td>\n",
       "      <td>1</td>\n",
       "      <td>1</td>\n",
       "      <td>0</td>\n",
       "      <td>0</td>\n",
       "      <td>0</td>\n",
       "      <td>No</td>\n",
       "    </tr>\n",
       "  </tbody>\n",
       "</table>\n",
       "</div>"
      ],
      "text/plain": [
       "           patientid appointmentid gender  age      neighbourhood scholarship  \\\n",
       "0   29872499824296.0       5642903      F   62    JARDIM DA PENHA           0   \n",
       "1  558997776694438.0       5642503      M   56    JARDIM DA PENHA           0   \n",
       "2    4262962299951.0       5642549      F   62      MATA DA PRAIA           0   \n",
       "3     867951213174.0       5642828      F    8  PONTAL DE CAMBURI           0   \n",
       "4    8841186448183.0       5642494      F   56    JARDIM DA PENHA           0   \n",
       "\n",
       "  hipertension diabetes alcoholism handcap sms_received no_show  \n",
       "0            1        0          0       0            0      No  \n",
       "1            0        0          0       0            0      No  \n",
       "2            0        0          0       0            0      No  \n",
       "3            0        0          0       0            0      No  \n",
       "4            1        1          0       0            0      No  "
      ]
     },
     "execution_count": 29,
     "metadata": {},
     "output_type": "execute_result"
    }
   ],
   "source": [
    "df.head()"
   ]
  },
  {
   "cell_type": "code",
   "execution_count": 30,
   "id": "ce3ac0d1",
   "metadata": {},
   "outputs": [
    {
     "data": {
      "image/png": "[encoded data removed]",
      "text/plain": [
       "<Figure size 1152x576 with 1 Axes>"
      ]
     },
     "metadata": {},
     "output_type": "display_data"
    }
   ],
   "source": [
    "# first showing the diffrence between how many has attended and who didn't\n",
    "plt.figure(figsize=[16,8])\n",
    "plt.pie(df.no_show.value_counts(),labels=['show','no show'])\n",
    "plt.legend()\n",
    "plt.show()"
   ]
  },
  {
   "cell_type": "markdown",
   "id": "30b0f9a1",
   "metadata": {},
   "source": [
    "### Research Question 1 (Does gender makes difference?)"
   ]
  },
  {
   "cell_type": "code",
   "execution_count": 31,
   "id": "4535d18e",
   "metadata": {},
   "outputs": [],
   "source": [
    "# defining a function that makes a bar plot to show the correlation between one variable and the no_show variable\n",
    "def vis (x):\n",
    "    CrosstabResult=pd.crosstab(index=df[x],columns=df['no_show'])\n",
    "    CrosstabResult.plot.bar(rot=0)\n",
    "    plt.legend(['Show','No Show'])\n",
    "    font = {'family':'arial','color':'black','size':20}\n",
    "    font2 = {'family':'arial','color':'black','size':24}\n",
    "    plt.xlabel(x,fontdict=font)\n",
    "    plt.ylabel('count',fontdict=font)\n",
    "    plt.title(f'{x} vs attendance',fontdict=font2,loc='left')\n",
    "    plt.show()"
   ]
  },
  {
   "cell_type": "code",
   "execution_count": 32,
   "id": "3b3b7006",
   "metadata": {},
   "outputs": [
    {
     "data": {
      "image/png": "[encoded data removed]",
      "text/plain": [
       "<Figure size 432x288 with 1 Axes>"
      ]
     },
     "metadata": {
      "needs_background": "light"
     },
     "output_type": "display_data"
    }
   ],
   "source": [
    "vis('gender')"
   ]
  },
  {
   "cell_type": "markdown",
   "id": "817ad0ca",
   "metadata": {},
   "source": [
    "#### Looks like the no show ratio is almost the same in both genders so I think it doesn't affect  the attendance."
   ]
  },
  {
   "cell_type": "markdown",
   "id": "bf545616",
   "metadata": {},
   "source": [
    "### Research Question 2  (Does naiborhood makes diffrence)"
   ]
  },
  {
   "cell_type": "code",
   "execution_count": 33,
   "id": "8c5ccdff",
   "metadata": {},
   "outputs": [
    {
     "data": {
      "image/png": "[encoded data removed]",
      "text/plain": [
       "<Figure size 1152x360 with 1 Axes>"
      ]
     },
     "metadata": {
      "needs_background": "light"
     },
     "output_type": "display_data"
    }
   ],
   "source": [
    "plt.figure(figsize=[16,5])\n",
    "df.neighbourhood[df.no_show=='No'].value_counts().plot(kind='bar',label = 'show',color='green')\n",
    "df.neighbourhood[df.no_show=='Yes'].value_counts().plot(kind='bar',label = 'show', color= 'red')\n",
    "plt.legend(['Show','No Show'])\n",
    "font = {'family':'arial','color':'black','size':20}\n",
    "font2 = {'family':'arial','color':'black','size':24}\n",
    "plt.xlabel('neighbourhood',fontdict=font)\n",
    "plt.ylabel('count',fontdict=font)\n",
    "plt.title('neighbourhood vs attendance',fontdict=font2,loc='left')\n",
    "plt.show()"
   ]
  },
  {
   "cell_type": "markdown",
   "id": "96f15900",
   "metadata": {},
   "source": [
    "#### Looks like the no show ratio is almost the same in all neibouthoods so I think it also doesn't affect the attendance."
   ]
  },
  {
   "cell_type": "markdown",
   "id": "a0bfffca",
   "metadata": {},
   "source": [
    "### Research Question 3 (Does age makes difference?)"
   ]
  },
  {
   "cell_type": "code",
   "execution_count": 34,
   "id": "9e503ccb",
   "metadata": {},
   "outputs": [
    {
     "data": {
      "image/png": "[encoded data removed]",
      "text/plain": [
       "<Figure size 720x360 with 1 Axes>"
      ]
     },
     "metadata": {
      "needs_background": "light"
     },
     "output_type": "display_data"
    }
   ],
   "source": [
    "# this histogram shows the ratio between who showed and who didn't\n",
    "# and because there are a lot of ages I put as a histogram to divide it into categories\n",
    "plt.figure(figsize=[10,5])\n",
    "x = df.age[df.no_show=='No']\n",
    "y = df.age[df.no_show=='Yes']\n",
    "plt.hist([x,y])\n",
    "plt.legend(['Show','No Show'])\n",
    "font = {'family':'arial','color':'black','size':20}\n",
    "font2 = {'family':'arial','color':'black','size':24}\n",
    "plt.xlabel('age',fontdict=font)\n",
    "plt.ylabel('count',fontdict=font)\n",
    "plt.title('Age vs attendance',fontdict=font2,loc='left')\n",
    "plt.show()"
   ]
  },
  {
   "cell_type": "markdown",
   "id": "e2e4836b",
   "metadata": {},
   "source": [
    "#### Looks like there is a positive correlation between age and the possibility of not showing up."
   ]
  },
  {
   "cell_type": "markdown",
   "id": "ba812b40",
   "metadata": {},
   "source": [
    "### Research Question 4 (Does getting sms makes difference?)"
   ]
  },
  {
   "cell_type": "code",
   "execution_count": 35,
   "id": "fb44795b",
   "metadata": {},
   "outputs": [
    {
     "data": {
      "image/png": "[encoded data removed]",
      "text/plain": [
       "<Figure size 432x288 with 1 Axes>"
      ]
     },
     "metadata": {
      "needs_background": "light"
     },
     "output_type": "display_data"
    }
   ],
   "source": [
    "vis('sms_received')"
   ]
  },
  {
   "cell_type": "markdown",
   "id": "7ff0dc90",
   "metadata": {},
   "source": [
    "#### That's odd because there is a positive correlation between receiving SMS and the possibility of not showing up."
   ]
  },
  {
   "cell_type": "markdown",
   "id": "1368be57",
   "metadata": {},
   "source": [
    "### Research Question 5 (Does being a handicap make difference?)"
   ]
  },
  {
   "cell_type": "code",
   "execution_count": 36,
   "id": "e3fd9c8f",
   "metadata": {},
   "outputs": [
    {
     "data": {
      "text/html": [
       "<div>\n",
       "<style scoped>\n",
       "    .dataframe tbody tr th:only-of-type {\n",
       "        vertical-align: middle;\n",
       "    }\n",
       "\n",
       "    .dataframe tbody tr th {\n",
       "        vertical-align: top;\n",
       "    }\n",
       "\n",
       "    .dataframe thead th {\n",
       "        text-align: right;\n",
       "    }\n",
       "</style>\n",
       "<table border=\"1\" class=\"dataframe\">\n",
       "  <thead>\n",
       "    <tr style=\"text-align: right;\">\n",
       "      <th>no_show</th>\n",
       "      <th>No</th>\n",
       "      <th>Yes</th>\n",
       "    </tr>\n",
       "    <tr>\n",
       "      <th>handcap</th>\n",
       "      <th></th>\n",
       "      <th></th>\n",
       "    </tr>\n",
       "  </thead>\n",
       "  <tbody>\n",
       "    <tr>\n",
       "      <th>0</th>\n",
       "      <td>86373</td>\n",
       "      <td>21912</td>\n",
       "    </tr>\n",
       "    <tr>\n",
       "      <th>1</th>\n",
       "      <td>1676</td>\n",
       "      <td>366</td>\n",
       "    </tr>\n",
       "    <tr>\n",
       "      <th>2</th>\n",
       "      <td>146</td>\n",
       "      <td>37</td>\n",
       "    </tr>\n",
       "    <tr>\n",
       "      <th>3</th>\n",
       "      <td>10</td>\n",
       "      <td>3</td>\n",
       "    </tr>\n",
       "    <tr>\n",
       "      <th>4</th>\n",
       "      <td>2</td>\n",
       "      <td>1</td>\n",
       "    </tr>\n",
       "  </tbody>\n",
       "</table>\n",
       "</div>"
      ],
      "text/plain": [
       "no_show     No    Yes\n",
       "handcap              \n",
       "0        86373  21912\n",
       "1         1676    366\n",
       "2          146     37\n",
       "3           10      3\n",
       "4            2      1"
      ]
     },
     "execution_count": 36,
     "metadata": {},
     "output_type": "execute_result"
    }
   ],
   "source": [
    "CrosstabResult=pd.crosstab(index=df['handcap'],columns=df['no_show'])\n",
    "CrosstabResult"
   ]
  },
  {
   "cell_type": "code",
   "execution_count": 37,
   "id": "c8be64b5",
   "metadata": {},
   "outputs": [
    {
     "data": {
      "image/png": "[encoded data removed]",
      "text/plain": [
       "<Figure size 432x288 with 1 Axes>"
      ]
     },
     "metadata": {
      "needs_background": "light"
     },
     "output_type": "display_data"
    }
   ],
   "source": [
    "CrosstabResult.plot.bar(rot=0)\n",
    "plt.legend(['Show','No Show'])\n",
    "font = {'family':'arial','color':'black','size':20}\n",
    "font2 = {'family':'arial','color':'black','size':24}\n",
    "plt.xlabel('handcap',fontdict=font)\n",
    "plt.ylabel('count',fontdict=font)\n",
    "plt.title('handcap vs attendance',fontdict=font2,loc='left')\n",
    "plt.show()"
   ]
  },
  {
   "cell_type": "code",
   "execution_count": 38,
   "id": "1ba50cc2",
   "metadata": {},
   "outputs": [],
   "source": [
    "# removing not handicap persons to see the other segments \n",
    "CrosstabResult = CrosstabResult.iloc[1:,:]"
   ]
  },
  {
   "cell_type": "code",
   "execution_count": 39,
   "id": "685165e9",
   "metadata": {
    "scrolled": true
   },
   "outputs": [
    {
     "data": {
      "image/png": "[encoded data removed]",
      "text/plain": [
       "<Figure size 432x288 with 1 Axes>"
      ]
     },
     "metadata": {
      "needs_background": "light"
     },
     "output_type": "display_data"
    }
   ],
   "source": [
    "CrosstabResult.plot.bar(rot=0)\n",
    "plt.legend(['Show','No Show'])\n",
    "font = {'family':'arial','color':'black','size':20}\n",
    "font2 = {'family':'arial','color':'black','size':24}\n",
    "plt.xlabel('handcap',fontdict=font)\n",
    "plt.ylabel('count',fontdict=font)\n",
    "plt.title('handcap vs attendance',fontdict=font2,loc='left')\n",
    "plt.show()"
   ]
  },
  {
   "cell_type": "markdown",
   "id": "6a47c5e7",
   "metadata": {},
   "source": [
    "#### looks like there is no correlation between being a handicap of any level or not and attendance."
   ]
  },
  {
   "cell_type": "markdown",
   "id": "89834c2d",
   "metadata": {},
   "source": [
    "### Research Question 6 (Does having scholarship makes difference?)"
   ]
  },
  {
   "cell_type": "code",
   "execution_count": 40,
   "id": "9b14ef08",
   "metadata": {},
   "outputs": [
    {
     "data": {
      "image/png": "[encoded data removed]",
      "text/plain": [
       "<Figure size 432x288 with 1 Axes>"
      ]
     },
     "metadata": {
      "needs_background": "light"
     },
     "output_type": "display_data"
    }
   ],
   "source": [
    "vis('scholarship')"
   ]
  },
  {
   "cell_type": "markdown",
   "id": "6f564fe8",
   "metadata": {},
   "source": [
    "#### The ratio between who have a scholarship and who doesn't is almost the same so having scholarship doesn't make difference."
   ]
  },
  {
   "cell_type": "markdown",
   "id": "8061974e",
   "metadata": {},
   "source": [
    "### Research Question 7 (Does having hipertension makes difference?)"
   ]
  },
  {
   "cell_type": "code",
   "execution_count": 41,
   "id": "8072254b",
   "metadata": {},
   "outputs": [
    {
     "data": {
      "image/png": "[encoded data removed]",
      "text/plain": [
       "<Figure size 432x288 with 1 Axes>"
      ]
     },
     "metadata": {
      "needs_background": "light"
     },
     "output_type": "display_data"
    }
   ],
   "source": [
    "vis('hipertension')"
   ]
  },
  {
   "cell_type": "markdown",
   "id": "c28320d7",
   "metadata": {},
   "source": [
    "#### Looks like hipertension doesn't have an effect on attendance."
   ]
  },
  {
   "cell_type": "markdown",
   "id": "035894ce",
   "metadata": {},
   "source": [
    "### Research Question 8 (Does having  diabetes makes difference?)"
   ]
  },
  {
   "cell_type": "code",
   "execution_count": 42,
   "id": "f583ab05",
   "metadata": {},
   "outputs": [
    {
     "data": {
      "image/png": "[encoded data removed]",
      "text/plain": [
       "<Figure size 432x288 with 1 Axes>"
      ]
     },
     "metadata": {
      "needs_background": "light"
     },
     "output_type": "display_data"
    }
   ],
   "source": [
    "vis('diabetes')"
   ]
  },
  {
   "cell_type": "markdown",
   "id": "45ce6317",
   "metadata": {},
   "source": [
    "#### Like hipertension diabetes doesn't have and effect on attendance."
   ]
  },
  {
   "cell_type": "markdown",
   "id": "35bb5249",
   "metadata": {},
   "source": [
    "### Research Question 9 (Does being alcoholic makes difference?)"
   ]
  },
  {
   "cell_type": "code",
   "execution_count": 43,
   "id": "02dd3dfb",
   "metadata": {},
   "outputs": [
    {
     "data": {
      "image/png": "[encoded data removed]",
      "text/plain": [
       "<Figure size 432x288 with 1 Axes>"
      ]
     },
     "metadata": {
      "needs_background": "light"
     },
     "output_type": "display_data"
    }
   ],
   "source": [
    "vis('alcoholism')"
   ]
  },
  {
   "cell_type": "markdown",
   "id": "238c8932",
   "metadata": {},
   "source": [
    "#### The alcoholic percentage of the sample is very small so we can't determine whether it has an effect or not."
   ]
  },
  {
   "cell_type": "markdown",
   "id": "322b6b48",
   "metadata": {},
   "source": [
    "### Research Question 10 (Does having hipertension and diabetes at the same time makes difference?)"
   ]
  },
  {
   "cell_type": "markdown",
   "id": "188c0138",
   "metadata": {},
   "source": [
    "#### a lot of people have hypertension diabetes at the same time so i want to know if having both diseases have any effect on attendance"
   ]
  },
  {
   "cell_type": "code",
   "execution_count": 44,
   "id": "9225172f",
   "metadata": {},
   "outputs": [],
   "source": [
    "CrosstabResult=pd.crosstab(index=[df['hipertension'],df['diabetes']],columns=df['no_show'])"
   ]
  },
  {
   "cell_type": "code",
   "execution_count": 45,
   "id": "8e0733f9",
   "metadata": {},
   "outputs": [
    {
     "data": {
      "text/html": [
       "<div>\n",
       "<style scoped>\n",
       "    .dataframe tbody tr th:only-of-type {\n",
       "        vertical-align: middle;\n",
       "    }\n",
       "\n",
       "    .dataframe tbody tr th {\n",
       "        vertical-align: top;\n",
       "    }\n",
       "\n",
       "    .dataframe thead th {\n",
       "        text-align: right;\n",
       "    }\n",
       "</style>\n",
       "<table border=\"1\" class=\"dataframe\">\n",
       "  <thead>\n",
       "    <tr style=\"text-align: right;\">\n",
       "      <th></th>\n",
       "      <th>no_show</th>\n",
       "      <th>No</th>\n",
       "      <th>Yes</th>\n",
       "    </tr>\n",
       "    <tr>\n",
       "      <th>hipertension</th>\n",
       "      <th>diabetes</th>\n",
       "      <th></th>\n",
       "      <th></th>\n",
       "    </tr>\n",
       "  </thead>\n",
       "  <tbody>\n",
       "    <tr>\n",
       "      <th rowspan=\"2\" valign=\"top\">0</th>\n",
       "      <th>0</th>\n",
       "      <td>69010</td>\n",
       "      <td>18258</td>\n",
       "    </tr>\n",
       "    <tr>\n",
       "      <th>1</th>\n",
       "      <td>1168</td>\n",
       "      <td>289</td>\n",
       "    </tr>\n",
       "    <tr>\n",
       "      <th rowspan=\"2\" valign=\"top\">1</th>\n",
       "      <th>0</th>\n",
       "      <td>12684</td>\n",
       "      <td>2631</td>\n",
       "    </tr>\n",
       "    <tr>\n",
       "      <th>1</th>\n",
       "      <td>5345</td>\n",
       "      <td>1141</td>\n",
       "    </tr>\n",
       "  </tbody>\n",
       "</table>\n",
       "</div>"
      ],
      "text/plain": [
       "no_show                   No    Yes\n",
       "hipertension diabetes              \n",
       "0            0         69010  18258\n",
       "             1          1168    289\n",
       "1            0         12684   2631\n",
       "             1          5345   1141"
      ]
     },
     "execution_count": 45,
     "metadata": {},
     "output_type": "execute_result"
    }
   ],
   "source": [
    "CrosstabResult"
   ]
  },
  {
   "cell_type": "code",
   "execution_count": 46,
   "id": "34b7e76a",
   "metadata": {},
   "outputs": [
    {
     "data": {
      "text/html": [
       "<div>\n",
       "<style scoped>\n",
       "    .dataframe tbody tr th:only-of-type {\n",
       "        vertical-align: middle;\n",
       "    }\n",
       "\n",
       "    .dataframe tbody tr th {\n",
       "        vertical-align: top;\n",
       "    }\n",
       "\n",
       "    .dataframe thead th {\n",
       "        text-align: right;\n",
       "    }\n",
       "</style>\n",
       "<table border=\"1\" class=\"dataframe\">\n",
       "  <thead>\n",
       "    <tr style=\"text-align: right;\">\n",
       "      <th></th>\n",
       "      <th>no_show</th>\n",
       "      <th>No</th>\n",
       "      <th>Yes</th>\n",
       "      <th>total</th>\n",
       "      <th>no_percent</th>\n",
       "      <th>yes_percent</th>\n",
       "    </tr>\n",
       "    <tr>\n",
       "      <th>hipertension</th>\n",
       "      <th>diabetes</th>\n",
       "      <th></th>\n",
       "      <th></th>\n",
       "      <th></th>\n",
       "      <th></th>\n",
       "      <th></th>\n",
       "    </tr>\n",
       "  </thead>\n",
       "  <tbody>\n",
       "    <tr>\n",
       "      <th rowspan=\"2\" valign=\"top\">0</th>\n",
       "      <th>0</th>\n",
       "      <td>69010</td>\n",
       "      <td>18258</td>\n",
       "      <td>87268</td>\n",
       "      <td>79.078242</td>\n",
       "      <td>20.921758</td>\n",
       "    </tr>\n",
       "    <tr>\n",
       "      <th>1</th>\n",
       "      <td>1168</td>\n",
       "      <td>289</td>\n",
       "      <td>1457</td>\n",
       "      <td>80.164722</td>\n",
       "      <td>19.835278</td>\n",
       "    </tr>\n",
       "    <tr>\n",
       "      <th rowspan=\"2\" valign=\"top\">1</th>\n",
       "      <th>0</th>\n",
       "      <td>12684</td>\n",
       "      <td>2631</td>\n",
       "      <td>15315</td>\n",
       "      <td>82.820764</td>\n",
       "      <td>17.179236</td>\n",
       "    </tr>\n",
       "    <tr>\n",
       "      <th>1</th>\n",
       "      <td>5345</td>\n",
       "      <td>1141</td>\n",
       "      <td>6486</td>\n",
       "      <td>82.408264</td>\n",
       "      <td>17.591736</td>\n",
       "    </tr>\n",
       "  </tbody>\n",
       "</table>\n",
       "</div>"
      ],
      "text/plain": [
       "no_show                   No    Yes  total  no_percent  yes_percent\n",
       "hipertension diabetes                                              \n",
       "0            0         69010  18258  87268   79.078242    20.921758\n",
       "             1          1168    289   1457   80.164722    19.835278\n",
       "1            0         12684   2631  15315   82.820764    17.179236\n",
       "             1          5345   1141   6486   82.408264    17.591736"
      ]
     },
     "execution_count": 46,
     "metadata": {},
     "output_type": "execute_result"
    }
   ],
   "source": [
    "CrosstabResult['total'] = CrosstabResult.No + CrosstabResult.Yes\n",
    "CrosstabResult['no_percent'] = CrosstabResult.No / CrosstabResult.total*100\n",
    "CrosstabResult['yes_percent'] = CrosstabResult.Yes / CrosstabResult.total*100\n",
    "CrosstabResult"
   ]
  },
  {
   "cell_type": "code",
   "execution_count": 47,
   "id": "d249ca74",
   "metadata": {},
   "outputs": [],
   "source": [
    "CrosstabResult = CrosstabResult.iloc[[0,-1]]"
   ]
  },
  {
   "cell_type": "code",
   "execution_count": 48,
   "id": "fe90c1eb",
   "metadata": {},
   "outputs": [
    {
     "data": {
      "text/html": [
       "<div>\n",
       "<style scoped>\n",
       "    .dataframe tbody tr th:only-of-type {\n",
       "        vertical-align: middle;\n",
       "    }\n",
       "\n",
       "    .dataframe tbody tr th {\n",
       "        vertical-align: top;\n",
       "    }\n",
       "\n",
       "    .dataframe thead th {\n",
       "        text-align: right;\n",
       "    }\n",
       "</style>\n",
       "<table border=\"1\" class=\"dataframe\">\n",
       "  <thead>\n",
       "    <tr style=\"text-align: right;\">\n",
       "      <th></th>\n",
       "      <th>no_show</th>\n",
       "      <th>No</th>\n",
       "      <th>Yes</th>\n",
       "      <th>total</th>\n",
       "      <th>no_percent</th>\n",
       "      <th>yes_percent</th>\n",
       "    </tr>\n",
       "    <tr>\n",
       "      <th>hipertension</th>\n",
       "      <th>diabetes</th>\n",
       "      <th></th>\n",
       "      <th></th>\n",
       "      <th></th>\n",
       "      <th></th>\n",
       "      <th></th>\n",
       "    </tr>\n",
       "  </thead>\n",
       "  <tbody>\n",
       "    <tr>\n",
       "      <th>0</th>\n",
       "      <th>0</th>\n",
       "      <td>69010</td>\n",
       "      <td>18258</td>\n",
       "      <td>87268</td>\n",
       "      <td>79.078242</td>\n",
       "      <td>20.921758</td>\n",
       "    </tr>\n",
       "    <tr>\n",
       "      <th>1</th>\n",
       "      <th>1</th>\n",
       "      <td>5345</td>\n",
       "      <td>1141</td>\n",
       "      <td>6486</td>\n",
       "      <td>82.408264</td>\n",
       "      <td>17.591736</td>\n",
       "    </tr>\n",
       "  </tbody>\n",
       "</table>\n",
       "</div>"
      ],
      "text/plain": [
       "no_show                   No    Yes  total  no_percent  yes_percent\n",
       "hipertension diabetes                                              \n",
       "0            0         69010  18258  87268   79.078242    20.921758\n",
       "1            1          5345   1141   6486   82.408264    17.591736"
      ]
     },
     "execution_count": 48,
     "metadata": {},
     "output_type": "execute_result"
    }
   ],
   "source": [
    "CrosstabResult"
   ]
  },
  {
   "cell_type": "code",
   "execution_count": 49,
   "id": "b897b4c6",
   "metadata": {
    "scrolled": true
   },
   "outputs": [
    {
     "data": {
      "image/png": "[encoded data removed]",
      "text/plain": [
       "<Figure size 720x360 with 1 Axes>"
      ]
     },
     "metadata": {
      "needs_background": "light"
     },
     "output_type": "display_data"
    }
   ],
   "source": [
    "plt.figure(figsize=[10,5])\n",
    "CrosstabResult['no_percent'].plot.bar(rot=0, color='green')\n",
    "CrosstabResult['yes_percent'].plot.bar(rot=0, color= 'red')\n",
    "plt.legend(['Show','No Show'])\n",
    "font = {'family':'arial','color':'black','size':20}\n",
    "font2 = {'family':'arial','color':'black','size':24}\n",
    "plt.xlabel('(hipertension and diabetes)',fontdict=font)\n",
    "plt.ylabel('count',fontdict=font)\n",
    "plt.title('(hipertension and diabetes) vs attendance',fontdict=font2,loc='left')\n",
    "plt.show()"
   ]
  },
  {
   "cell_type": "markdown",
   "id": "164996fb",
   "metadata": {},
   "source": [
    "#### Looks like there is no effect on attendance"
   ]
  },
  {
   "cell_type": "markdown",
   "id": "563d766e",
   "metadata": {},
   "source": [
    "<a id='conclusions'></a>\n",
    "## Conclusions\n",
    "\n",
    "### Findings\n",
    "\n",
    "> 1- Age has an effect on showing up.\n",
    "> people from 0 to 10 years have the most attending rate and it goes down till the 50s then we see that the people in the 50s tend to not miss their appointment and it goes down again after that\n",
    ">\n",
    "> 2- There is a negative correlation between receiving an SMS and showing up. looks like the people who got an SMS tend to not show up\n",
    ">\n",
    "> 3- The number of people who have insurance is much smaller than the people who doesn't have it but it doesn't affect the probability of showing up.\n",
    "\n",
    "### Tips\n",
    "> 1- we should make a campaign that targets the people who are between 20 years old and 50 years old and who are older than 60 as it should know the reason behind this significant decrease and fix it.\n",
    ">\n",
    "> 2- We should check the messaging campaign and figure out why it has a negative effect so we can improve it. maybe it's the timing or the SMS is not that clear to the patients\n",
    "\n",
    "### Limitations\n",
    "\n",
    "> [Gender, Neighbourhood, Hipertension, Diabetes, Handicap]\n",
    ">\n",
    "> All these variables has no effect on the probability of showing up as it's almost the same percentage in both groups."
   ]
  }
 ],
 "metadata": {
  "kernelspec": {
   "display_name": "Python 3",
   "language": "python",
   "name": "python3"
  },
  "language_info": {
   "codemirror_mode": {
    "name": "ipython",
    "version": 3
   },
   "file_extension": ".py",
   "mimetype": "text/x-python",
   "name": "python",
   "nbconvert_exporter": "python",
   "pygments_lexer": "ipython3",
   "version": "3.8.8"
  }
 },
 "nbformat": 4,
 "nbformat_minor": 5
}
